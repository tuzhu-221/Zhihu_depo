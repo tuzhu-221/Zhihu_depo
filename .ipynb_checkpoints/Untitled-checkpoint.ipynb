{
 "cells": [
  {
   "cell_type": "code",
   "execution_count": 85,
   "id": "e7f3527d",
   "metadata": {},
   "outputs": [],
   "source": [
    "f = open(\"measurement1.md\",encoding=\"UTF-8\")"
   ]
  },
  {
   "cell_type": "code",
   "execution_count": 86,
   "id": "efea4d73",
   "metadata": {},
   "outputs": [],
   "source": [
    "content = f.readlines()"
   ]
  },
  {
   "cell_type": "code",
   "execution_count": 87,
   "id": "a298d148",
   "metadata": {},
   "outputs": [],
   "source": [
    "import re"
   ]
  },
  {
   "cell_type": "code",
   "execution_count": 88,
   "id": "781a052a",
   "metadata": {},
   "outputs": [],
   "source": [
    "for i in range(len(content)):\n",
    "    content[i] = re.sub('(\\$)(?!\\$)(.*?)(\\$)', ' \\\\1\\\\1\\\\2\\\\1\\\\1 ',content[i])"
   ]
  },
  {
   "cell_type": "code",
   "execution_count": 89,
   "id": "1bbde2f3",
   "metadata": {},
   "outputs": [
    {
     "data": {
      "text/plain": [
       "'---\\ntitle: 测量理论1\\ndate: 2023-03-27 15:42:23\\ntags: 量子力学, quantum mechanics, quantum measurement\\ncategories: 量子测量\\n---\\n\\n# 经典测量理论\\n\\n一个物理学量用  $$x$$  表示（可以是离散的，也可以是连续的，一维或者多维都行），在测量前并不知道其具体的取值，但是知道其取值范围，并且由于经验或者别的信息，知道他在每个取值上的概率分布  $$P(x)$$ （先验概率分布 或者 state-of-knowledge）。\\n\\n假设似然函数（likelihood function）已知，其定义为： $$P(y|x)$$ ，在  $$x$$  给定的条件下， $$y$$  被测得的概率。\\n\\n在单次测量中，我们得到一次测量结果 $$y_0$$ ，根据测量结果对我们的 state-of-knowledge 进行更新，这个过程叫做完成了一次测量。\\n\\n由贝叶斯定理：\\n\\n\\\\begin{equation}\\n\\\\begin{aligned}\\nP(x|y_0) = \\\\frac{P(xy_0)}{P(y_0)} = \\\\frac{P(y_0|x)P(x)}{\\\\sum_x P(y_0|x)P(x)}\\n\\\\end{aligned}\\n\\\\end{equation}\\n\\n等式右边  $$P(x)$$  代表测量前我们对参量  $$x$$  的知识（state-of-knowledge）， $$P(y_0|x)$$ 则是似然函数，测量发生后，根据测量结果我们将知识更新为  $$P(x|y_0)$$ 。\\n\\n任意  $$N$$  次测量，彼此之间都是无关， $$x$$  的概率分布可以写为：\\n\\n\\\\begin{equation}\\n\\\\begin{aligned}\\nP(x|y_1,y_2,..y_N) &= \\\\frac{P(y_N|x,y_1,y_2,...y_{N-1})P(x|y_1,y_2,...y_{N-1})}{\\\\mathcal{N_{y_i}}}\\n\\\\\\\\\\\\\\\\ &=  \\\\frac{P(y_N|x,...)P(y_{N-1}|x,...)...P(y_{1}|x)P(x)}{\\\\Pi_i \\\\mathcal{N}_i }\\n\\\\end{aligned}\\n\\\\end{equation}\\n\\n其中\\n\\n<div> $$\\\\mathcal{N}_{i} = \\\\sum_x P(y_i|x,...)P(x|y_1,y_2,...y_{i-1})$$  </div>\\n\\n原式化简为：\\n\\n\\\\begin{equation}\\n\\\\begin{aligned}\\nP(x|y_1,y_2,..y_N) &= \\\\Pi_i \\\\frac{P(y_i|x,y_1,y_2,...y_{i-1})}{\\\\sum_x P(y_i|x,y_1,y_2,...y_{i-1})P(x|y_1,y_2,...y_{i-1})}\\n\\\\\\\\\\\\\\\\ & = \\\\Pi_i \\\\frac{P(y_i|x)}{\\\\sum_x P(y_i|x)P(x|y_1,y_2,...y_{i-1})} P(x)\\n\\\\end{aligned}\\n\\\\end{equation}\\n\\n其中，变量相互之间无关，意味着每次测量后似然关系没有改变既 $$P(y_i|x,y_1,y_2,...y_{i-1}) = P(y_i|x)$$ ，也就是测量并没有改变物理量的大小(当然我觉得弱关联近似成立也是有可能的)。\\n\\n实际上下方的归一化系数不太重要，重要的是分母上方的乘积，可以直接相乘之后再做归一化。\\n\\n在实际测量中，往往由于测量误差是由多个相互独立的随机变量造成的影响，所以  $$P(y|x)$$  似然函数往往为gauss型函数。同样，在经过多次测量后，任意给定一个物理量的取值 $$x_0$$ ，想求该物理量取值为 $$x_0$$ 的概率可以写为：\\n\\n\\\\begin{equation}\\n\\\\begin{aligned}\\nP(x_0|y_1,y_2,..y_N) &= P(y_1|x_0)P(y_2|x_0)P(y_3|x_0)... P(x_0)/N\\n\\\\\\\\\\\\\\\\ &= \\\\mathscr{F}^{-1}(\\\\tilde P(w_1) * \\\\tilde P(w_2)... \\\\tilde P(w_N)) P(x_0)/N\\n\\\\end{aligned}\\n\\\\end{equation}\\n\\n其中  $$\\\\tilde P(w)$$  为概率  $$P(y|x_0)$$  关于  $$y$$  的傅里叶变换，内部代表对其卷积，<mark>假设  $$\\\\tilde P(w)$$  为方差有限且在无穷上可积的函数</mark>，则可以将其归一化后看作是  $$w$$  上的一个概率分布，再根据\\n\\n\\\\begin{equation}\\n\\\\begin{aligned}\\nP(x+y) = P(x) *P(y)\\n\\\\end{aligned}\\n\\\\end{equation}\\n\\n可知， $$P(x_0|y_1,y_2,..y_N)  =  \\\\mathscr{F}^{-1}(C\\\\tilde P(w_1+w_2+w_3...w_n)) $$ ，再由中心极限定理可知， $$C\\\\tilde P(w_1+w_2+w_3...w_n)$$  满足gauss分布，所以其傅里叶变换也是gauss分布。\\n\\n在绝大多数情况下，对物理量的初始知识并不重要，不会影响到最终结果，但不是绝对的，为了避免 prior states-of-knowledge 对测量产生影响，需要选定特殊的先验知识来表达对物理量 “一无所知”，同时得考虑到测量的鲁棒性，也就是一些outliers不能对测量结果产生巨大的影响，得选用一些特殊的先验知识，具体的参看[书 part2 chapter21](https://www.cambridge.org/cn/academic/subjects/physics/theoretical-physics-and-mathematical-physics/probability-theory-logic-science?format=HB&isbn=9780521592710)\\n\\n\\n\\n# 一次经典的长度测量\\n\\n对一把长度为20的尺子进行测量，对恒为正数且完全无知的测量值prior知识的写法最好写为  $$p(x) = a/x$$ ，其中  $$a$$  为某个任意常数，由于肉眼和仪器导致误差呈现高斯分布，假设其 $$\\\\sigma = 0.5$$ ，对应的like-hood关系也是高斯的  $$\\\\sigma = 0.5$$  的函数。\\n\\n```python\\nimport math\\nimport numpy as np\\nimport matplotlib.pyplot as plt\\nfrom matplotlib.animation import FuncAnimation\\n\\nfig,ax = plt.subplots(figsize=(1*12,1*9),facecolor=\\'white\\',edgecolor=\\'white\\')\\n\\n# 测量的参数\\nN = 300 #测量的次数\\nsigma = 0.5 #like-hood 呈高斯型，其方差\\nx0 = 20 #尺子的长度\\nerrors = np.random.normal(mu, sigma, N)\\nmeasures  = x0+errors #测量结果\\n\\n#作图\\n\\nx = np.linspace(19,21,20000)\\nstate_of_knowledge = [100/i for i in x] #图像上只呈现19-21的变化\\n    \\ndef init():\\n    global state_of_knowledge\\n    state_of_knowledge = state_of_knowledge/sum(state_of_knowledge)\\n    ax.axvline(x0, linestyle=\\'--\\', color=\\'black\\')\\n    line, = ax.plot(x,state_of_knowledge)\\n    return line\\n\\ndef update(measurement_value): #一个frame代表一次测量\\n    global state_of_knowledge\\n    ax.clear()\\n    ax.axvline(x0, linestyle=\\'--\\', color=\\'black\\')\\n    state_of_knowledge = [state_of_knowledge[i]*np.exp(-(x[i]-20)**2/2/sigma**2) for i in range(20000)]\\n    state_of_knowledge = state_of_knowledge/sum(state_of_knowledge)\\n    line, = ax.plot(x,state_of_knowledge)\\n    return line\\n\\nanim = FuncAnimation(fig,update,frames=measures,interval=30,init_func = init) #每一秒完成30次测量\\nanim.save(\"measure.gif\")\\n```\\n\\n<img src=\"measure.gif\" width=\"80%\">\\n\\n\\n\\n\\n\\n\\n\\n\\n\\n'"
      ]
     },
     "execution_count": 89,
     "metadata": {},
     "output_type": "execute_result"
    }
   ],
   "source": [
    "string = str()\n",
    "for i in content:\n",
    "    string += i\n",
    "string"
   ]
  },
  {
   "cell_type": "code",
   "execution_count": 90,
   "id": "c5c81540",
   "metadata": {},
   "outputs": [
    {
     "data": {
      "text/plain": [
       "3945"
      ]
     },
     "execution_count": 90,
     "metadata": {},
     "output_type": "execute_result"
    }
   ],
   "source": [
    "f = open(\"test.md\",\"w\",encoding=\"UTF-8\")\n",
    "f.write(string)"
   ]
  },
  {
   "cell_type": "code",
   "execution_count": 91,
   "id": "3e89b58a",
   "metadata": {},
   "outputs": [],
   "source": [
    "f.close()"
   ]
  },
  {
   "cell_type": "code",
   "execution_count": 68,
   "id": "b2880180",
   "metadata": {},
   "outputs": [],
   "source": [
    "para =content[11]"
   ]
  },
  {
   "cell_type": "code",
   "execution_count": 69,
   "id": "78c1d515",
   "metadata": {},
   "outputs": [
    {
     "data": {
      "text/plain": [
       "'假设似然函数（likelihood function）已知，其定义为：$P(y|x)$，在 $x$ 给定的条件下，$y$ 被测得的概率。\\n'"
      ]
     },
     "execution_count": 69,
     "metadata": {},
     "output_type": "execute_result"
    }
   ],
   "source": [
    "(\\$)(?!\\$)(.*?)(\\$)para"
   ]
  },
  {
   "cell_type": "code",
   "execution_count": 74,
   "id": "19e0b2e0",
   "metadata": {},
   "outputs": [
    {
     "data": {
      "text/plain": [
       "'假设似然函数（likelihood function）已知，其定义为： $$P(y|x)$$ ，在  $$x$$  给定的条件下， $$y$$  被测得的概率。\\n'"
      ]
     },
     "execution_count": 74,
     "metadata": {},
     "output_type": "execute_result"
    }
   ],
   "source": [
    "re.sub('(\\$)(?!\\$)(.*?)(\\$)', ' \\\\1\\\\1\\\\2\\\\1\\\\1 ',para)"
   ]
  },
  {
   "cell_type": "code",
   "execution_count": 1,
   "id": "1e105b6a",
   "metadata": {},
   "outputs": [],
   "source": [
    "local = \"D://blog/blog_new/source/_posts/\" + \"measurement1.md\""
   ]
  },
  {
   "cell_type": "code",
   "execution_count": 2,
   "id": "653f14da",
   "metadata": {},
   "outputs": [
    {
     "data": {
      "text/plain": [
       "'D://blog/blog_new/source/_posts/measurement1.md'"
      ]
     },
     "execution_count": 2,
     "metadata": {},
     "output_type": "execute_result"
    }
   ],
   "source": [
    "local"
   ]
  },
  {
   "cell_type": "code",
   "execution_count": 3,
   "id": "e94b19bc",
   "metadata": {},
   "outputs": [],
   "source": [
    "f = open(local,encoding=\"UTF-8\")"
   ]
  },
  {
   "cell_type": "code",
   "execution_count": 4,
   "id": "a8f010c6",
   "metadata": {},
   "outputs": [],
   "source": [
    "content = f.readlines()"
   ]
  },
  {
   "cell_type": "code",
   "execution_count": 5,
   "id": "06411e6b",
   "metadata": {},
   "outputs": [
    {
     "data": {
      "text/plain": [
       "['---\\n',\n",
       " 'title: 测量理论1\\n',\n",
       " 'date: 2023-03-27 15:42:23\\n',\n",
       " 'tags: 量子力学, quantum mechanics, quantum measurement\\n',\n",
       " 'categories: 量子测量\\n',\n",
       " '---\\n',\n",
       " '\\n',\n",
       " '# 经典测量理论\\n',\n",
       " '\\n',\n",
       " '一个物理学量用 $x$ 表示（可以是离散的，也可以是连续的，一维或者多维都行），在测量前并不知道其具体的取值，但是知道其取值范围，并且由于经验或者别的信息，知道他在每个取值上的概率分布 $P(x)$（先验概率分布 或者 state-of-knowledge）。\\n',\n",
       " '\\n',\n",
       " '假设似然函数（likelihood function）已知，其定义为：$P(y|x)$，在 $x$ 给定的条件下，$y$ 被测得的概率。\\n',\n",
       " '\\n',\n",
       " '在单次测量中，我们得到一次测量结果$y_0$，根据测量结果对我们的 state-of-knowledge 进行更新，这个过程叫做完成了一次测量。\\n',\n",
       " '\\n',\n",
       " '由贝叶斯定理：\\n',\n",
       " '\\n',\n",
       " '\\\\begin{equation}\\n',\n",
       " '\\\\begin{aligned}\\n',\n",
       " 'P(x|y_0) = \\\\frac{P(xy_0)}{P(y_0)} = \\\\frac{P(y_0|x)P(x)}{\\\\sum_x P(y_0|x)P(x)}\\n',\n",
       " '\\\\end{aligned}\\n',\n",
       " '\\\\end{equation}\\n',\n",
       " '\\n',\n",
       " '等式右边 $P(x)$ 代表测量前我们对参量 $x$ 的知识（state-of-knowledge），$P(y_0|x)$则是似然函数，测量发生后，根据测量结果我们将知识更新为 $P(x|y_0)$。\\n',\n",
       " '\\n',\n",
       " '任意 $N$ 次测量，彼此之间都是无关，$x$ 的概率分布可以写为：\\n',\n",
       " '\\n',\n",
       " '\\\\begin{equation}\\n',\n",
       " '\\\\begin{aligned}\\n',\n",
       " 'P(x|y_1,y_2,..y_N) &= \\\\frac{P(y_N|x,y_1,y_2,...y_{N-1})P(x|y_1,y_2,...y_{N-1})}{\\\\mathcal{N_{y_i}}}\\n',\n",
       " '\\\\\\\\\\\\\\\\ &=  \\\\frac{P(y_N|x,...)P(y_{N-1}|x,...)...P(y_{1}|x)P(x)}{\\\\Pi_i \\\\mathcal{N}_i }\\n',\n",
       " '\\\\end{aligned}\\n',\n",
       " '\\\\end{equation}\\n',\n",
       " '\\n',\n",
       " '其中\\n',\n",
       " '\\n',\n",
       " '<div>$\\\\mathcal{N}_{i} = \\\\sum_x P(y_i|x,...)P(x|y_1,y_2,...y_{i-1})$ </div>\\n',\n",
       " '\\n',\n",
       " '原式化简为：\\n',\n",
       " '\\n',\n",
       " '\\\\begin{equation}\\n',\n",
       " '\\\\begin{aligned}\\n',\n",
       " 'P(x|y_1,y_2,..y_N) &= \\\\Pi_i \\\\frac{P(y_i|x,y_1,y_2,...y_{i-1})}{\\\\sum_x P(y_i|x,y_1,y_2,...y_{i-1})P(x|y_1,y_2,...y_{i-1})}\\n',\n",
       " '\\\\\\\\\\\\\\\\ & = \\\\Pi_i \\\\frac{P(y_i|x)}{\\\\sum_x P(y_i|x)P(x|y_1,y_2,...y_{i-1})} P(x)\\n',\n",
       " '\\\\end{aligned}\\n',\n",
       " '\\\\end{equation}\\n',\n",
       " '\\n',\n",
       " '其中，变量相互之间无关，意味着每次测量后似然关系没有改变既$P(y_i|x,y_1,y_2,...y_{i-1}) = P(y_i|x)$，也就是测量并没有改变物理量的大小(当然我觉得弱关联近似成立也是有可能的)。\\n',\n",
       " '\\n',\n",
       " '实际上下方的归一化系数不太重要，重要的是分母上方的乘积，可以直接相乘之后再做归一化。\\n',\n",
       " '\\n',\n",
       " '在实际测量中，往往由于测量误差是由多个相互独立的随机变量造成的影响，所以 $P(y|x)$ 似然函数往往为gauss型函数。同样，在经过多次测量后，任意给定一个物理量的取值$x_0$，想求该物理量取值为$x_0$的概率可以写为：\\n',\n",
       " '\\n',\n",
       " '\\\\begin{equation}\\n',\n",
       " '\\\\begin{aligned}\\n',\n",
       " 'P(x_0|y_1,y_2,..y_N) &= P(y_1|x_0)P(y_2|x_0)P(y_3|x_0)... P(x_0)/N\\n',\n",
       " '\\\\\\\\\\\\\\\\ &= \\\\mathscr{F}^{-1}(\\\\tilde P(w_1) * \\\\tilde P(w_2)... \\\\tilde P(w_N)) P(x_0)/N\\n',\n",
       " '\\\\end{aligned}\\n',\n",
       " '\\\\end{equation}\\n',\n",
       " '\\n',\n",
       " '其中 $\\\\tilde P(w)$ 为概率 $P(y|x_0)$ 关于 $y$ 的傅里叶变换，内部代表对其卷积，<mark>假设 $\\\\tilde P(w)$ 为方差有限且在无穷上可积的函数</mark>，则可以将其归一化后看作是 $w$ 上的一个概率分布，再根据\\n',\n",
       " '\\n',\n",
       " '\\\\begin{equation}\\n',\n",
       " '\\\\begin{aligned}\\n',\n",
       " 'P(x+y) = P(x) *P(y)\\n',\n",
       " '\\\\end{aligned}\\n',\n",
       " '\\\\end{equation}\\n',\n",
       " '\\n',\n",
       " '可知，$P(x_0|y_1,y_2,..y_N)  =  \\\\mathscr{F}^{-1}(C\\\\tilde P(w_1+w_2+w_3...w_n)) $，再由中心极限定理可知，$C\\\\tilde P(w_1+w_2+w_3...w_n)$ 满足gauss分布，所以其傅里叶变换也是gauss分布。\\n',\n",
       " '\\n',\n",
       " '在绝大多数情况下，对物理量的初始知识并不重要，不会影响到最终结果，但不是绝对的，为了避免 prior states-of-knowledge 对测量产生影响，需要选定特殊的先验知识来表达对物理量 “一无所知”，同时得考虑到测量的鲁棒性，也就是一些outliers不能对测量结果产生巨大的影响，得选用一些特殊的先验知识，具体的参看[书 part2 chapter21](https://www.cambridge.org/cn/academic/subjects/physics/theoretical-physics-and-mathematical-physics/probability-theory-logic-science?format=HB&isbn=9780521592710)\\n',\n",
       " '\\n',\n",
       " '\\n',\n",
       " '\\n',\n",
       " '# 一次经典的长度测量\\n',\n",
       " '\\n',\n",
       " '对一把长度为20的尺子进行测量，对恒为正数且完全无知的测量值prior知识的写法最好写为 $p(x) = a/x$，其中 $a$ 为某个任意常数，由于肉眼和仪器导致误差呈现高斯分布，假设其$\\\\sigma = 0.5$，对应的like-hood关系也是高斯的 $\\\\sigma = 0.5$ 的函数。\\n',\n",
       " '\\n',\n",
       " '```python\\n',\n",
       " 'import math\\n',\n",
       " 'import numpy as np\\n',\n",
       " 'import matplotlib.pyplot as plt\\n',\n",
       " 'from matplotlib.animation import FuncAnimation\\n',\n",
       " '\\n',\n",
       " \"fig,ax = plt.subplots(figsize=(1*12,1*9),facecolor='white',edgecolor='white')\\n\",\n",
       " '\\n',\n",
       " '# 测量的参数\\n',\n",
       " 'N = 300 #测量的次数\\n',\n",
       " 'sigma = 0.5 #like-hood 呈高斯型，其方差\\n',\n",
       " 'x0 = 20 #尺子的长度\\n',\n",
       " 'errors = np.random.normal(mu, sigma, N)\\n',\n",
       " 'measures  = x0+errors #测量结果\\n',\n",
       " '\\n',\n",
       " '#作图\\n',\n",
       " '\\n',\n",
       " 'x = np.linspace(19,21,20000)\\n',\n",
       " 'state_of_knowledge = [100/i for i in x] #图像上只呈现19-21的变化\\n',\n",
       " '    \\n',\n",
       " 'def init():\\n',\n",
       " '    global state_of_knowledge\\n',\n",
       " '    state_of_knowledge = state_of_knowledge/sum(state_of_knowledge)\\n',\n",
       " \"    ax.axvline(x0, linestyle='--', color='black')\\n\",\n",
       " '    line, = ax.plot(x,state_of_knowledge)\\n',\n",
       " '    return line\\n',\n",
       " '\\n',\n",
       " 'def update(measurement_value): #一个frame代表一次测量\\n',\n",
       " '    global state_of_knowledge\\n',\n",
       " '    ax.clear()\\n',\n",
       " \"    ax.axvline(x0, linestyle='--', color='black')\\n\",\n",
       " '    state_of_knowledge = [state_of_knowledge[i]*np.exp(-(x[i]-20)**2/2/sigma**2) for i in range(20000)]\\n',\n",
       " '    state_of_knowledge = state_of_knowledge/sum(state_of_knowledge)\\n',\n",
       " '    line, = ax.plot(x,state_of_knowledge)\\n',\n",
       " '    return line\\n',\n",
       " '\\n',\n",
       " 'anim = FuncAnimation(fig,update,frames=measures,interval=30,init_func = init) #每一秒完成30次测量\\n',\n",
       " 'anim.save(\"measure.gif\")\\n',\n",
       " '```\\n',\n",
       " '\\n',\n",
       " '<img src=\"measure.gif\" width=\"80%\">\\n',\n",
       " '\\n',\n",
       " '\\n',\n",
       " '\\n',\n",
       " '\\n',\n",
       " '\\n',\n",
       " '\\n',\n",
       " '\\n',\n",
       " '\\n',\n",
       " '\\n']"
      ]
     },
     "execution_count": 5,
     "metadata": {},
     "output_type": "execute_result"
    }
   ],
   "source": [
    "content"
   ]
  },
  {
   "cell_type": "code",
   "execution_count": 113,
   "id": "5173ddf3",
   "metadata": {},
   "outputs": [],
   "source": [
    "eq = \"\"\"\n",
    "$$\n",
    "\\sin(x) = f(x)/x\n",
    "\\\\\\\\ sdase1e s\n",
    "$$\n",
    "y的表达式$$asdasd$$ \n",
    "\"\"\"\n",
    "new_eq = r\"\"\"\n",
    "\\\\begin{equation}\n",
    "\\\\begin{aligned}\n",
    "\\2\n",
    "\\\\end{aligned}\n",
    "\\\\end{equation}\n",
    "\"\"\""
   ]
  },
  {
   "cell_type": "code",
   "execution_count": 114,
   "id": "97908b1c",
   "metadata": {},
   "outputs": [
    {
     "data": {
      "text/plain": [
       "'\\n\\\\begin{equation}\\n\\\\begin{aligned}\\n\\\\sin(x) = f(x)/x\\n\\\\\\\\ sdase1e s\\n\\\\end{aligned}\\n\\\\end{equation}\\ny的表达式$$asdasd$$ \\n'"
      ]
     },
     "execution_count": 114,
     "metadata": {},
     "output_type": "execute_result"
    }
   ],
   "source": [
    "string = re.sub('(\\n\\$\\$\\n)([\\s\\S]*?)(\\n\\$\\$\\n)',new_eq,eq)\n",
    "string."
   ]
  },
  {
   "cell_type": "code",
   "execution_count": 126,
   "id": "b836103a",
   "metadata": {},
   "outputs": [
    {
     "data": {
      "text/plain": [
       "'\\n\\\\begin{equation}\\n\\\\begin{aligned}\\n\\\\sin(x) = f(x)/x\\n\\\\\\\\\\\\\\\\ sdase1e s\\n\\\\end{aligned}\\n\\\\end{equation}\\ny的表达式$$asdasd$$ \\n'"
      ]
     },
     "execution_count": 126,
     "metadata": {},
     "output_type": "execute_result"
    }
   ],
   "source": [
    "f = open('test1.md',encoding=\"UTF-8\")\n",
    "content = f.readlines()\n",
    "string = str()\n",
    "for i in content:\n",
    "    string += i\n",
    "string"
   ]
  },
  {
   "cell_type": "code",
   "execution_count": 127,
   "id": "4a99021b",
   "metadata": {},
   "outputs": [
    {
     "data": {
      "text/plain": [
       "'\\n&\\\\begin{equation}\\n&\\\\begin{aligned}\\n&\\\\sin(x) = f(x)/x\\n&\\\\\\\\\\\\\\\\ sdase1e s\\n&\\\\end{aligned}\\n&\\\\end{equation}\\n&y的表达式$$asdasd$$ \\n&'"
      ]
     },
     "execution_count": 127,
     "metadata": {},
     "output_type": "execute_result"
    }
   ],
   "source": [
    "new_string = re.sub('(\\n\\$\\$\\n)([\\s\\S]*?)(\\n\\$\\$\\n)',new_eq,string)\n",
    "new_string"
   ]
  },
  {
   "cell_type": "code",
   "execution_count": 119,
   "id": "7ed651c1",
   "metadata": {},
   "outputs": [],
   "source": [
    "new_string = re.sub('(\\n\\$\\$\\n)([\\s\\S]*?)(\\n\\$\\$\\n)',new_eq,string)"
   ]
  },
  {
   "cell_type": "code",
   "execution_count": 120,
   "id": "95116717",
   "metadata": {},
   "outputs": [
    {
     "data": {
      "text/plain": [
       "'\\n\\\\begin{equation}\\n\\\\begin{aligned}\\n\\\\sin(x) = f(x)/x\\n\\\\\\\\\\\\\\\\ sdase1e s\\n\\\\end{aligned}\\n\\\\end{equation}\\ny的表达式$$asdasd$$ \\n'"
      ]
     },
     "execution_count": 120,
     "metadata": {},
     "output_type": "execute_result"
    }
   ],
   "source": [
    "new_string"
   ]
  },
  {
   "cell_type": "code",
   "execution_count": 125,
   "id": "3f49fb4f",
   "metadata": {},
   "outputs": [
    {
     "data": {
      "text/plain": [
       "'\\n\\\\begin{equation}\\n\\\\begin{aligned}\\n\\\\sin(x) = f(x)/x\\n\\\\\\\\\\\\&\\\\\\\\\\\\& sdase1e s\\n\\\\end{aligned}\\n\\\\end{equation}\\ny的表达式$$asdasd$$ \\n'"
      ]
     },
     "execution_count": 125,
     "metadata": {},
     "output_type": "execute_result"
    }
   ],
   "source": []
  },
  {
   "cell_type": "code",
   "execution_count": null,
   "id": "066b8566",
   "metadata": {},
   "outputs": [],
   "source": []
  }
 ],
 "metadata": {
  "kernelspec": {
   "display_name": "Python 3 (ipykernel)",
   "language": "python",
   "name": "python3"
  },
  "language_info": {
   "codemirror_mode": {
    "name": "ipython",
    "version": 3
   },
   "file_extension": ".py",
   "mimetype": "text/x-python",
   "name": "python",
   "nbconvert_exporter": "python",
   "pygments_lexer": "ipython3",
   "version": "3.9.12"
  }
 },
 "nbformat": 4,
 "nbformat_minor": 5
}
